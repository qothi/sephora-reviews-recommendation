{
 "cells": [
  {
   "cell_type": "markdown",
   "metadata": {},
   "source": [
    "# i. Perkenalan"
   ]
  },
  {
   "cell_type": "markdown",
   "metadata": {},
   "source": [
    "**Dataset** : Sephora Products and Skincare Reviews\n",
    "\n",
    "**Objektif** : Memprediksi apakah seorang pelanggan merekomendasikan produk yang ia beli dari review yang ia tinggalkan di website Sephora"
   ]
  },
  {
   "cell_type": "markdown",
   "metadata": {},
   "source": [
    "# ii. Import Libraries"
   ]
  },
  {
   "cell_type": "code",
   "execution_count": null,
   "metadata": {},
   "outputs": [],
   "source": [
    "# Import libraries\n",
    "import warnings\n",
    "warnings.filterwarnings('ignore')\n",
    "import pandas as pd\n",
    "import numpy as np\n",
    "import json\n",
    "import nltk\n",
    "import tensorflow\n",
    "from tensorflow.keras.models import load_model\n",
    "from preprocessing import text_preprocessing\n",
    "from nltk.stem import WordNetLemmatizer\n",
    "nltk.download('punkt')\n",
    "nltk.download('wordnet')"
   ]
  },
  {
   "cell_type": "markdown",
   "metadata": {},
   "source": [
    "# iii. Model Loading"
   ]
  },
  {
   "cell_type": "code",
   "execution_count": null,
   "metadata": {},
   "outputs": [],
   "source": [
    "# Load model\n",
    "warnings.filterwarnings('ignore')\n",
    "model = load_model('model_lstm_2')"
   ]
  },
  {
   "cell_type": "markdown",
   "metadata": {},
   "source": [
    "# iv. Inference Data"
   ]
  },
  {
   "cell_type": "code",
   "execution_count": 4,
   "metadata": {},
   "outputs": [
    {
     "data": {
      "text/html": [
       "<div>\n",
       "<style scoped>\n",
       "    .dataframe tbody tr th:only-of-type {\n",
       "        vertical-align: middle;\n",
       "    }\n",
       "\n",
       "    .dataframe tbody tr th {\n",
       "        vertical-align: top;\n",
       "    }\n",
       "\n",
       "    .dataframe thead th {\n",
       "        text-align: right;\n",
       "    }\n",
       "</style>\n",
       "<table border=\"1\" class=\"dataframe\">\n",
       "  <thead>\n",
       "    <tr style=\"text-align: right;\">\n",
       "      <th></th>\n",
       "      <th>review_text</th>\n",
       "    </tr>\n",
       "  </thead>\n",
       "  <tbody>\n",
       "    <tr>\n",
       "      <th>0</th>\n",
       "      <td>Not the most moisturizing mask I have tried. T...</td>\n",
       "    </tr>\n",
       "    <tr>\n",
       "      <th>1</th>\n",
       "      <td>I purchased this product yesterday. Completely...</td>\n",
       "    </tr>\n",
       "    <tr>\n",
       "      <th>2</th>\n",
       "      <td>I was using the fresh soy cleanser and literal...</td>\n",
       "    </tr>\n",
       "    <tr>\n",
       "      <th>3</th>\n",
       "      <td>While this stuff feels great on your lips and ...</td>\n",
       "    </tr>\n",
       "    <tr>\n",
       "      <th>4</th>\n",
       "      <td>Ok. I am not one to usually leave reviews. HOW...</td>\n",
       "    </tr>\n",
       "  </tbody>\n",
       "</table>\n",
       "</div>"
      ],
      "text/plain": [
       "                                         review_text\n",
       "0  Not the most moisturizing mask I have tried. T...\n",
       "1  I purchased this product yesterday. Completely...\n",
       "2  I was using the fresh soy cleanser and literal...\n",
       "3  While this stuff feels great on your lips and ...\n",
       "4  Ok. I am not one to usually leave reviews. HOW..."
      ]
     },
     "execution_count": 4,
     "metadata": {},
     "output_type": "execute_result"
    }
   ],
   "source": [
    "# Membuat dataframe inference\n",
    "inf = [\n",
    "    'Not the most moisturizing mask I have tried. The Kaplan is the best in my opinion but this smells and looks so good.',\n",
    "    'I purchased this product yesterday. Completely brought out the stubborn under the skin pimples that I had! I feel like this is my little miracle in a jar!',\n",
    "    \"I was using the fresh soy cleanser and literally the same day that I decided to make the splurge and buy the larger size of that, I got a mini of this in a points reward. I returned the fresh cleanser and bought the full size of this the next day - it does a way better job of breaking down your makeup. It takes off all of my eye makeup even waterproof mascara and it breaks down my foundation too, which the fresh cleanser didn't. The smell is nice, not too strong and it doesn't linger which I like. It's a super gentle formula and leaves my skin super soft but also just feeling clean. It definitely lives up to its name ! And a little bit goes a long way so the big bottle will last a while and the price is definitely competitive. If you're on the fence about it, I say go for it! It's gentle enough for sensitive skin but it 100% gets the job done.\",\n",
    "    \"While this stuff feels great on your lips and the little spatula thingy is cool, I've yet to see any plumping or notice any difference in dryness over using my usual cheap nighttime lip treatment.\",\n",
    "    \"Ok. I am not one to usually leave reviews. HOWEVER, this product is freaking amazing. I've been using it for a few days now and let me just say how incredibly soft it makes my skin. I have combination skin, oily in my Tzone, and this DEFINITELY keeps my skin hydrated but in a good way. No excess oil whatsoever. I used to be die hard for the Philosophy Purity cleanser. And dont get me wrong i still love it. But this probably will replace it. You will NOT regret buying this product. So worth every penny. Will work for all skin types. Removes makeup, even waterproof! Packaging is adorable! I'm definitely loving Tartes new line of products. Good job Tarte!! Such an improvement on my skin!\"\n",
    "]\n",
    "\n",
    "inf_df = pd.DataFrame(inf, columns=['review_text'])\n",
    "inf_df"
   ]
  },
  {
   "cell_type": "markdown",
   "metadata": {},
   "source": [
    "# v. Predicting Inference Data"
   ]
  },
  {
   "cell_type": "markdown",
   "metadata": {},
   "source": [
    "## Text Pre-processing"
   ]
  },
  {
   "cell_type": "code",
   "execution_count": 5,
   "metadata": {},
   "outputs": [],
   "source": [
    "# Load stopwords\n",
    "with open('stopwords.txt', 'r') as sw:\n",
    "    stopwords = json.load(sw)\n",
    "stopwords = set(stopwords)"
   ]
  },
  {
   "cell_type": "code",
   "execution_count": 6,
   "metadata": {},
   "outputs": [],
   "source": [
    "# Mendefinisikan lemmatizer\n",
    "lemmatizer = WordNetLemmatizer()"
   ]
  },
  {
   "cell_type": "code",
   "execution_count": 7,
   "metadata": {},
   "outputs": [
    {
     "data": {
      "text/html": [
       "<div>\n",
       "<style scoped>\n",
       "    .dataframe tbody tr th:only-of-type {\n",
       "        vertical-align: middle;\n",
       "    }\n",
       "\n",
       "    .dataframe tbody tr th {\n",
       "        vertical-align: top;\n",
       "    }\n",
       "\n",
       "    .dataframe thead th {\n",
       "        text-align: right;\n",
       "    }\n",
       "</style>\n",
       "<table border=\"1\" class=\"dataframe\">\n",
       "  <thead>\n",
       "    <tr style=\"text-align: right;\">\n",
       "      <th></th>\n",
       "      <th>review_text</th>\n",
       "    </tr>\n",
       "  </thead>\n",
       "  <tbody>\n",
       "    <tr>\n",
       "      <th>0</th>\n",
       "      <td>moisturizing tried kaplan best opinion smell l...</td>\n",
       "    </tr>\n",
       "    <tr>\n",
       "      <th>1</th>\n",
       "      <td>purchased product yesterday completely brought...</td>\n",
       "    </tr>\n",
       "    <tr>\n",
       "      <th>2</th>\n",
       "      <td>using soy literally day decided make splurge b...</td>\n",
       "    </tr>\n",
       "    <tr>\n",
       "      <th>3</th>\n",
       "      <td>stuff feel great lip little spatula thingy coo...</td>\n",
       "    </tr>\n",
       "    <tr>\n",
       "      <th>4</th>\n",
       "      <td>ok one usually leave review however product fr...</td>\n",
       "    </tr>\n",
       "  </tbody>\n",
       "</table>\n",
       "</div>"
      ],
      "text/plain": [
       "                                         review_text\n",
       "0  moisturizing tried kaplan best opinion smell l...\n",
       "1  purchased product yesterday completely brought...\n",
       "2  using soy literally day decided make splurge b...\n",
       "3  stuff feel great lip little spatula thingy coo...\n",
       "4  ok one usually leave review however product fr..."
      ]
     },
     "execution_count": 7,
     "metadata": {},
     "output_type": "execute_result"
    }
   ],
   "source": [
    "# Text Pre-processing\n",
    "inf_df['review_text'] = inf_df.apply(lambda row: text_preprocessing(row['review_text'], stopwords, lemmatizer), axis=1)\n",
    "inf_df"
   ]
  },
  {
   "cell_type": "markdown",
   "metadata": {},
   "source": [
    "## Inference Prediction"
   ]
  },
  {
   "cell_type": "code",
   "execution_count": 8,
   "metadata": {},
   "outputs": [
    {
     "name": "stdout",
     "output_type": "stream",
     "text": [
      "1/1 [==============================] - 2s 2s/step\n"
     ]
    }
   ],
   "source": [
    "# Prediksi data inference\n",
    "y_pred = model.predict(inf_df)"
   ]
  },
  {
   "cell_type": "code",
   "execution_count": 9,
   "metadata": {},
   "outputs": [
    {
     "data": {
      "text/html": [
       "<div>\n",
       "<style scoped>\n",
       "    .dataframe tbody tr th:only-of-type {\n",
       "        vertical-align: middle;\n",
       "    }\n",
       "\n",
       "    .dataframe tbody tr th {\n",
       "        vertical-align: top;\n",
       "    }\n",
       "\n",
       "    .dataframe thead th {\n",
       "        text-align: right;\n",
       "    }\n",
       "</style>\n",
       "<table border=\"1\" class=\"dataframe\">\n",
       "  <thead>\n",
       "    <tr style=\"text-align: right;\">\n",
       "      <th></th>\n",
       "      <th>review_text</th>\n",
       "      <th>is_recommended</th>\n",
       "    </tr>\n",
       "  </thead>\n",
       "  <tbody>\n",
       "    <tr>\n",
       "      <th>0</th>\n",
       "      <td>moisturizing tried kaplan best opinion smell l...</td>\n",
       "      <td>1</td>\n",
       "    </tr>\n",
       "    <tr>\n",
       "      <th>1</th>\n",
       "      <td>purchased product yesterday completely brought...</td>\n",
       "      <td>1</td>\n",
       "    </tr>\n",
       "    <tr>\n",
       "      <th>2</th>\n",
       "      <td>using soy literally day decided make splurge b...</td>\n",
       "      <td>0</td>\n",
       "    </tr>\n",
       "    <tr>\n",
       "      <th>3</th>\n",
       "      <td>stuff feel great lip little spatula thingy coo...</td>\n",
       "      <td>1</td>\n",
       "    </tr>\n",
       "    <tr>\n",
       "      <th>4</th>\n",
       "      <td>ok one usually leave review however product fr...</td>\n",
       "      <td>1</td>\n",
       "    </tr>\n",
       "  </tbody>\n",
       "</table>\n",
       "</div>"
      ],
      "text/plain": [
       "                                         review_text  is_recommended\n",
       "0  moisturizing tried kaplan best opinion smell l...               1\n",
       "1  purchased product yesterday completely brought...               1\n",
       "2  using soy literally day decided make splurge b...               0\n",
       "3  stuff feel great lip little spatula thingy coo...               1\n",
       "4  ok one usually leave review however product fr...               1"
      ]
     },
     "execution_count": 9,
     "metadata": {},
     "output_type": "execute_result"
    }
   ],
   "source": [
    "# Mengubah hasil probabilitas menjadi kelas 1 atau 0, di mana 1: recommended dan 0: not recommended\n",
    "y_pred_final = np.where(y_pred > 0.5, 1, 0)\n",
    "inf_df['is_recommended'] = y_pred_final\n",
    "inf_df"
   ]
  }
 ],
 "metadata": {
  "kernelspec": {
   "display_name": "base",
   "language": "python",
   "name": "python3"
  },
  "language_info": {
   "codemirror_mode": {
    "name": "ipython",
    "version": 3
   },
   "file_extension": ".py",
   "mimetype": "text/x-python",
   "name": "python",
   "nbconvert_exporter": "python",
   "pygments_lexer": "ipython3",
   "version": "3.11.4"
  }
 },
 "nbformat": 4,
 "nbformat_minor": 2
}
